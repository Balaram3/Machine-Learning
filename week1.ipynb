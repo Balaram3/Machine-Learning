{
 "cells": [
  {
   "cell_type": "markdown",
   "metadata": {},
   "source": [
    "Series Creation and Indexing in PANDAS"
   ]
  },
  {
   "cell_type": "code",
   "execution_count": 1,
   "metadata": {},
   "outputs": [],
   "source": [
    "import pandas as pd\n",
    "import numpy as np\n",
    "import matplotlib.pyplot as plt\n",
    "#import seaborn as sns"
   ]
  },
  {
   "cell_type": "code",
   "execution_count": 2,
   "metadata": {},
   "outputs": [
    {
     "name": "stdout",
     "output_type": "stream",
     "text": [
      "0    3620\n",
      "1    7891\n",
      "2    9761\n",
      "3    3907\n",
      "4    4338\n",
      "5    5373\n",
      "Name: steps, dtype: int64\n"
     ]
    }
   ],
   "source": [
    "step_data=[3620,7891,9761,3907,4338,5373]\n",
    "step_counts=pd.Series(step_data,name='steps')\n",
    "print(step_counts)"
   ]
  },
  {
   "cell_type": "markdown",
   "metadata": {},
   "source": [
    "Indexing "
   ]
  },
  {
   "cell_type": "code",
   "execution_count": 3,
   "metadata": {},
   "outputs": [
    {
     "name": "stdout",
     "output_type": "stream",
     "text": [
      "2018-01-24    3620\n",
      "2018-01-25    7891\n",
      "2018-01-26    9761\n",
      "2018-01-27    3907\n",
      "2018-01-28    4338\n",
      "2018-01-29    5373\n",
      "Freq: D, Name: steps, dtype: int64\n"
     ]
    }
   ],
   "source": [
    "step_counts.index=pd.date_range('20180124',periods=6)\n",
    "print(step_counts)"
   ]
  },
  {
   "cell_type": "markdown",
   "metadata": {},
   "source": [
    "Select using Index Values"
   ]
  },
  {
   "cell_type": "code",
   "execution_count": 4,
   "metadata": {},
   "outputs": [
    {
     "name": "stdout",
     "output_type": "stream",
     "text": [
      "3907\n",
      "3907\n",
      "2018-01-24    3620\n",
      "2018-01-25    7891\n",
      "2018-01-26    9761\n",
      "2018-01-27    3907\n",
      "2018-01-28    4338\n",
      "2018-01-29    5373\n",
      "Freq: D, Name: steps, dtype: int64\n",
      "int64\n"
     ]
    }
   ],
   "source": [
    "print(step_counts['2018-01-27'])\n",
    "print(step_counts[3])#like an Array\n",
    "print(step_counts['2018'])# Selecting all of 2018\n",
    "print(step_counts.dtype)#View the data type"
   ]
  },
  {
   "cell_type": "code",
   "execution_count": 5,
   "metadata": {},
   "outputs": [
    {
     "name": "stdout",
     "output_type": "stream",
     "text": [
      "float64\n"
     ]
    }
   ],
   "source": [
    "step_counts=step_counts.astype(np.float)#to convert dtype\n",
    "print(step_counts.dtype)"
   ]
  },
  {
   "cell_type": "markdown",
   "metadata": {},
   "source": [
    "Invalid data Points"
   ]
  },
  {
   "cell_type": "code",
   "execution_count": 6,
   "metadata": {},
   "outputs": [
    {
     "name": "stdout",
     "output_type": "stream",
     "text": [
      "2018-01-24    3620.0\n",
      "2018-01-25       NaN\n",
      "2018-01-26       NaN\n",
      "2018-01-27    3907.0\n",
      "2018-01-28    4338.0\n",
      "2018-01-29    5373.0\n",
      "Freq: D, Name: steps, dtype: float64\n"
     ]
    }
   ],
   "source": [
    "step_counts[1:3]=np.NaN\n",
    "print(step_counts)"
   ]
  },
  {
   "cell_type": "code",
   "execution_count": 7,
   "metadata": {},
   "outputs": [
    {
     "name": "stdout",
     "output_type": "stream",
     "text": [
      "2018-01-24    3620.0\n",
      "2018-01-25       0.0\n",
      "2018-01-26       0.0\n",
      "2018-01-27    3907.0\n",
      "2018-01-28    4338.0\n",
      "2018-01-29    5373.0\n",
      "Freq: D, Name: steps, dtype: float64\n"
     ]
    }
   ],
   "source": [
    "step_counts.fillna(0.,inplace=True)#step_counts=step_counts.fillna(0.)\n",
    "print(step_counts)"
   ]
  },
  {
   "cell_type": "markdown",
   "metadata": {},
   "source": [
    "Pandas Data Frame Creation and Methods"
   ]
  },
  {
   "cell_type": "code",
   "execution_count": 8,
   "metadata": {},
   "outputs": [
    {
     "name": "stdout",
     "output_type": "stream",
     "text": [
      "            Walking  Cycling\n",
      "2018-01-05     3620     10.7\n",
      "2018-01-06     7891      0.0\n",
      "2018-01-07     9761      NaN\n",
      "2018-01-08     3907      2.4\n",
      "2018-01-09     4338     15.3\n",
      "2018-01-10     5373     10.9\n",
      "Walking    9761.0\n",
      "Cycling       NaN\n",
      "Name: 2018-01-07 00:00:00, dtype: float64\n",
      "Walking    4338.0\n",
      "Cycling      15.3\n",
      "Name: 2018-01-09 00:00:00, dtype: float64\n"
     ]
    }
   ],
   "source": [
    "cycling_data=[10.7,0,None,2.4,15.3,10.9,0,None]\n",
    "joined_data=list(zip(step_data,cycling_data))\n",
    "#activity_df=pd.DataFrame(joined_data)\n",
    "activity_df=pd.DataFrame(joined_data,index=pd.date_range('20180105',periods=6),columns=['Walking','Cycling'])\n",
    "print(activity_df)\n",
    "print(activity_df.loc['2018-01-07'])#single row\n",
    "print(activity_df.iloc[-2])#select row by integer position"
   ]
  },
  {
   "cell_type": "code",
   "execution_count": 9,
   "metadata": {},
   "outputs": [
    {
     "name": "stdout",
     "output_type": "stream",
     "text": [
      "2018-01-05    3620\n",
      "2018-01-06    7891\n",
      "2018-01-07    9761\n",
      "2018-01-08    3907\n",
      "2018-01-09    4338\n",
      "2018-01-10    5373\n",
      "Freq: D, Name: Walking, dtype: int64\n",
      "2018-01-05    10.7\n",
      "2018-01-06     0.0\n",
      "2018-01-07     NaN\n",
      "2018-01-08     2.4\n",
      "2018-01-09    15.3\n",
      "2018-01-10    10.9\n",
      "Freq: D, Name: Cycling, dtype: float64\n"
     ]
    }
   ],
   "source": [
    "print(activity_df['Walking'])#Indexing columns\n",
    "print(activity_df.Cycling)#object Oriented Approach"
   ]
  },
  {
   "cell_type": "code",
   "execution_count": 10,
   "metadata": {},
   "outputs": [
    {
     "name": "stdout",
     "output_type": "stream",
     "text": [
      "   sepal_length  sepal_width  petal_length  petal_width      species\n",
      "0           5.1          3.5           1.4          0.2  Iris-setosa\n",
      "1           4.9          3.0           1.4          0.2  Iris-setosa\n",
      "2           4.7          3.2           1.3          0.2  Iris-setosa\n",
      "3           4.6          3.1           1.5          0.2  Iris-setosa\n",
      "4           5.0          3.6           1.4          0.2  Iris-setosa\n"
     ]
    }
   ],
   "source": [
    "file_path='data/Iris_Data.csv'\n",
    "data=pd.read_csv(file_path)\n",
    "print(data.iloc[:5])"
   ]
  },
  {
   "cell_type": "markdown",
   "metadata": {},
   "source": [
    "Assigning new Data to Data Frame"
   ]
  },
  {
   "cell_type": "code",
   "execution_count": 11,
   "metadata": {},
   "outputs": [
    {
     "name": "stdout",
     "output_type": "stream",
     "text": [
      "   petal_width      species  sepal_area\n",
      "0          0.2  Iris-setosa       17.85\n",
      "1          0.2  Iris-setosa       14.70\n",
      "2          0.2  Iris-setosa       15.04\n",
      "3          0.2  Iris-setosa       14.26\n",
      "4          0.2  Iris-setosa       18.00\n"
     ]
    }
   ],
   "source": [
    "data['sepal_area']=data.sepal_length*data.sepal_width#create new column\n",
    "print(data.iloc[:5,-3:])#[rows,cols]"
   ]
  },
  {
   "cell_type": "code",
   "execution_count": 12,
   "metadata": {},
   "outputs": [
    {
     "name": "stdout",
     "output_type": "stream",
     "text": [
      "       species  sepal_area    abbrev\n",
      "0  Iris-setosa       17.85  I-setosa\n",
      "1  Iris-setosa       14.70  I-setosa\n",
      "2  Iris-setosa       15.04  I-setosa\n",
      "3  Iris-setosa       14.26  I-setosa\n",
      "4  Iris-setosa       18.00  I-setosa\n"
     ]
    }
   ],
   "source": [
    "data['abbrev']=data.species.apply(lambda x:x.replace('Iris','I'))\n",
    "print(data.iloc[:5,-3:])"
   ]
  },
  {
   "cell_type": "code",
   "execution_count": 13,
   "metadata": {},
   "outputs": [
    {
     "name": "stdout",
     "output_type": "stream",
     "text": [
      "     sepal_length  sepal_width  petal_length  petal_width         species  \\\n",
      "0             5.1          3.5           1.4          0.2     Iris-setosa   \n",
      "1             4.9          3.0           1.4          0.2     Iris-setosa   \n",
      "148           6.2          3.4           5.4          2.3  Iris-virginica   \n",
      "149           5.9          3.0           5.1          1.8  Iris-virginica   \n",
      "\n",
      "     sepal_area       abbrev  \n",
      "0         17.85     I-setosa  \n",
      "1         14.70     I-setosa  \n",
      "148       21.08  I-virginica  \n",
      "149       17.70  I-virginica  \n"
     ]
    }
   ],
   "source": [
    "small_data=pd.concat([data.iloc[:2],data.iloc[-2:]])\n",
    "print(small_data)"
   ]
  },
  {
   "cell_type": "code",
   "execution_count": 14,
   "metadata": {},
   "outputs": [
    {
     "name": "stdout",
     "output_type": "stream",
     "text": [
      "species\n",
      "Iris-setosa        50\n",
      "Iris-versicolor    50\n",
      "Iris-virginica     50\n",
      "dtype: int64\n"
     ]
    }
   ],
   "source": [
    "grp_sizes=data.groupby('species').size()\n",
    "print(grp_sizes)"
   ]
  },
  {
   "cell_type": "code",
   "execution_count": 15,
   "metadata": {},
   "outputs": [
    {
     "name": "stdout",
     "output_type": "stream",
     "text": [
      "sepal_length     5.843333\n",
      "sepal_width      3.054000\n",
      "petal_length     3.758667\n",
      "petal_width      1.198667\n",
      "sepal_area      17.806533\n",
      "dtype: float64\n",
      "4.35\n",
      "0    1.5\n",
      "dtype: float64\n",
      "1.7644204199522617 3.1131794183445156 0.144064324021\n"
     ]
    }
   ],
   "source": [
    "print(data.mean())#calculating mean\n",
    "print(data.petal_length.median())\n",
    "print(data.petal_length.mode())\n",
    "print(data.petal_length.std(),data.petal_length.var(),data.petal_length.sem())"
   ]
  },
  {
   "cell_type": "code",
   "execution_count": 16,
   "metadata": {},
   "outputs": [
    {
     "name": "stdout",
     "output_type": "stream",
     "text": [
      "       sepal_length  sepal_width  petal_length  petal_width  sepal_area\n",
      "count    150.000000   150.000000    150.000000   150.000000  150.000000\n",
      "mean       5.843333     3.054000      3.758667     1.198667   17.806533\n",
      "std        0.828066     0.433594      1.764420     0.763161    3.368693\n",
      "min        4.300000     2.000000      1.000000     0.100000   10.000000\n",
      "25%        5.100000     2.800000      1.600000     0.300000   15.645000\n",
      "50%        5.800000     3.000000      4.350000     1.300000   17.660000\n",
      "75%        6.400000     3.300000      5.100000     1.800000   20.325000\n",
      "max        7.900000     4.400000      6.900000     2.500000   30.020000\n"
     ]
    }
   ],
   "source": [
    "print(data.describe())"
   ]
  },
  {
   "cell_type": "code",
   "execution_count": 17,
   "metadata": {},
   "outputs": [
    {
     "name": "stdout",
     "output_type": "stream",
     "text": [
      "             species  sepal_area        abbrev\n",
      "73   Iris-versicolor       17.08  I-versicolor\n",
      "18       Iris-setosa       21.66      I-setosa\n",
      "118   Iris-virginica       20.02   I-virginica\n",
      "78   Iris-versicolor       17.40  I-versicolor\n",
      "76   Iris-versicolor       19.04  I-versicolor\n"
     ]
    }
   ],
   "source": [
    "sample=data.sample(n=5,replace=False,random_state=42)\n",
    "print(sample.iloc[:,-3:])"
   ]
  },
  {
   "cell_type": "code",
   "execution_count": 18,
   "metadata": {},
   "outputs": [
    {
     "data": {
      "text/plain": [
       "[<matplotlib.lines.Line2D at 0x26e52e79390>]"
      ]
     },
     "execution_count": 18,
     "metadata": {},
     "output_type": "execute_result"
    },
    {
     "data": {
      "image/png": "[encoded data removed]",
      "text/plain": [
       "<Figure size 432x288 with 1 Axes>"
      ]
     },
     "metadata": {
      "needs_background": "light"
     },
     "output_type": "display_data"
    }
   ],
   "source": [
    "plt.plot(data.sepal_length,data.sepal_width,ls='',marker='o',label='sepals')\n",
    "plt.plot(data.petal_length,data.petal_width,ls='',marker='o',label='petals')"
   ]
  },
  {
   "cell_type": "code",
   "execution_count": 19,
   "metadata": {},
   "outputs": [
    {
     "data": {
      "text/plain": [
       "(array([  4.,  19.,  25.,   2.,   0.,   0.,   0.,   0.,   1.,   2.,   2.,\n",
       "          3.,   8.,   9.,  12.,   8.,  13.,  10.,   4.,  12.,   5.,   5.,\n",
       "          2.,   1.,   3.]),\n",
       " array([ 1.   ,  1.236,  1.472,  1.708,  1.944,  2.18 ,  2.416,  2.652,\n",
       "         2.888,  3.124,  3.36 ,  3.596,  3.832,  4.068,  4.304,  4.54 ,\n",
       "         4.776,  5.012,  5.248,  5.484,  5.72 ,  5.956,  6.192,  6.428,\n",
       "         6.664,  6.9  ]),\n",
       " <a list of 25 Patch objects>)"
      ]
     },
     "execution_count": 19,
     "metadata": {},
     "output_type": "execute_result"
    },
    {
     "data": {
      "image/png": "[encoded data removed]",
      "text/plain": [
       "<Figure size 432x288 with 1 Axes>"
      ]
     },
     "metadata": {
      "needs_background": "light"
     },
     "output_type": "display_data"
    }
   ],
   "source": [
    "plt.hist(data.sepal_length,bins=25)\n",
    "plt.hist(data.petal_length,bins=25)"
   ]
  }
 ],
 "metadata": {
  "kernelspec": {
   "display_name": "Python 3",
   "language": "python",
   "name": "python3"
  },
  "language_info": {
   "codemirror_mode": {
    "name": "ipython",
    "version": 3
   },
   "file_extension": ".py",
   "mimetype": "text/x-python",
   "name": "python",
   "nbconvert_exporter": "python",
   "pygments_lexer": "ipython3",
   "version": "3.7.0"
  }
 },
 "nbformat": 4,
 "nbformat_minor": 2
}
